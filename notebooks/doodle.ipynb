{
 "cells": [
  {
   "cell_type": "code",
   "execution_count": 1,
   "metadata": {},
   "outputs": [
    {
     "name": "stdout",
     "output_type": "stream",
     "text": [
      "Ready\n"
     ]
    }
   ],
   "source": [
    "from __future__ import print_function\n",
    "\n",
    "import sys\n",
    "import socket\n",
    "import os\n",
    "\n",
    "if socket.gethostname() == \"qiaubuntu\" or socket.gethostname() == \"toologic-ubuntu2\":\n",
    "    repo_path = os.path.expanduser('~/repository/seg_uncertainty')\n",
    "else:\n",
    "    repo_path = os.path.expanduser('~/repo/seg_uncertainty')\n",
    "sys.path.extend([repo_path])\n",
    "\n",
    "import matplotlib\n",
    "import matplotlib.pyplot as plt\n",
    "\n",
    "from matplotlib import cm\n",
    "\n",
    "from datetime import datetime\n",
    "from pytz import timezone\n",
    "import copy\n",
    "\n",
    "import numpy as np\n",
    "import cv2\n",
    "import SimpleITK as sitk\n",
    "import torch\n",
    "from tqdm import tqdm\n",
    "\n",
    "import dill\n",
    "import glob\n",
    "from collections import OrderedDict\n",
    "\n",
    "from datasets.data_config import get_config\n",
    "\n",
    "%matplotlib inline\n",
    "%load_ext autoreload\n",
    "%autoreload 2\n",
    "print(\"Ready\")"
   ]
  },
  {
   "cell_type": "code",
   "execution_count": 4,
   "metadata": {},
   "outputs": [
    {
     "name": "stdout",
     "output_type": "stream",
     "text": [
      "0.0 0.38498726\n"
     ]
    }
   ],
   "source": [
    "patient_id = \"patient021\"\n",
    "slice_id = 0\n",
    "src_data_path = \"/home/jorg/expers/acdc/unet_mc_dice\"\n",
    "amap_fname = os.path.join(os.path.join(src_data_path, \"umaps\"), patient_id + \"_ES_emap.nii.gz\")\n",
    "a_map = sitk.GetArrayFromImage(sitk.ReadImage(amap_fname))\n",
    "print(np.min(a_map), np.max(a_map))"
   ]
  },
  {
   "cell_type": "code",
   "execution_count": 23,
   "metadata": {},
   "outputs": [
    {
     "name": "stdout",
     "output_type": "stream",
     "text": [
      "dict_keys(['patient023'])\n",
      "0.0 0.8093823\n"
     ]
    }
   ],
   "source": [
    "from datasets.ACDC.get_data import get_pred_labels, get_umaps, load_data\n",
    "from datasets.data_config import get_config\n",
    "from datasets.ACDC.data import acdc_validation_fold\n",
    "\n",
    "\n",
    "dta_settings = get_config('ACDC')\n",
    "\n",
    "mc_dropout = False\n",
    "patient_id = \"patient023\"\n",
    "\n",
    "src_data_path = '/home/jorg/expers/acdc/f3/unet_mc_dice/'\n",
    "type_of_data = [\"pred_labels\", \"umaps\", \"ref_labels\"]\n",
    "data_dict = load_data(src_data_path, \"ES\", type_of_data, mc_dropout=mc_dropout, \n",
    "                      dt_config_id=\"fixed_46_31\",\n",
    "                      meta_info=False, patient_id=patient_id)\n",
    "# dt_maps = data_dict[\"dt_maps\"]\n",
    "# dt_labels = data_dict[\"dt_labels\"]\n",
    "ref_labels = data_dict[\"ref_labels\"]\n",
    "umaps = data_dict[\"umaps\"]\n",
    "pred_labels = data_dict[\"pred_labels\"]\n",
    "apex_base = data_dict['apex_base_slices']\n",
    "print(umaps.keys())\n",
    "print(np.min(umaps[patient_id]['umap']), np.max(umaps[patient_id]['umap']))"
   ]
  },
  {
   "cell_type": "code",
   "execution_count": 72,
   "metadata": {},
   "outputs": [
    {
     "name": "stdout",
     "output_type": "stream",
     "text": [
      "(35, 256, 216)\n"
     ]
    }
   ],
   "source": [
    "from datasets.ACDC.data import acdc_validation_fold\n",
    "fold = 0\n",
    "root_dir = '/home/jorg/data/ACDC/all_cardiac_phases/'\n",
    "patid = 37\n",
    "resample_zaxis = True\n",
    "\n",
    "val_set = acdc_validation_fold(fold, root_dir=root_dir, limited_load=False, resample=False, \n",
    "                               patid=patid, \n",
    "                               resample_zaxis=resample_zaxis)\n",
    "data = val_set.__next__()\n",
    "print(data['reference'].shape)"
   ]
  },
  {
   "cell_type": "code",
   "execution_count": 52,
   "metadata": {},
   "outputs": [
    {
     "name": "stdout",
     "output_type": "stream",
     "text": [
      "6478\n"
     ]
    }
   ],
   "source": [
    "def get_seg_errors(pred_labels, ref_labels):\n",
    "    seg_errors = np.zeros_like(pred_labels)\n",
    "    for cls_idx in np.arange(0, 4):\n",
    "        seg_errors[(pred_labels == cls_idx) != (ref_labels == cls_idx)] = 1\n",
    "    \n",
    "    return seg_errors\n",
    "\n",
    "seg_errors = get_seg_errors(pred_labels[patient_id], ref_labels[patient_id])\n",
    "print(np.sum(seg_errors))"
   ]
  },
  {
   "cell_type": "code",
   "execution_count": 98,
   "metadata": {},
   "outputs": [
    {
     "name": "stdout",
     "output_type": "stream",
     "text": [
      "231.67442\n",
      "[0.         0.38498726]\n",
      "(3239,)\n",
      "3065\n",
      "74.61873\n",
      "100\n",
      "[0.0, 0.0, 0.0, 0.0, 0.0, 3.5527132552840273e-15, 7.1054265105680546e-15, 1.4352961568288202e-14, 3.552713339987322e-14, 7.460698047854694e-14, 1.256239421298586e-13, 2.5266896973123733e-13, 4.812505407202072e-13, 7.980814923855276e-13, 1.4779286735405735e-12, 3.033306505279e-12, 5.903117127059601e-12, 1.2067429763784641e-11, 2.5197334080351297e-11, 6.932338453280457e-11, 1.5732956659686438e-10, 4.5811768378811753e-10, 1.164576519663286e-09, 3.2665621851890592e-09, 7.942472457500571e-09, 2.1917720403052953e-08, 3.45164625059625e-08, 5.6211695067531786e-08, 8.641456105351608e-08, 1.3793175241971766e-07, 2.1928652984115614e-07, 3.840398471766095e-07, 5.614724352653864e-07, 7.636501027263876e-07, 1.0655903906808797e-06, 1.490819013270084e-06, 2.064162140413827e-06, 2.4802981988614217e-06, 3.260771381974336e-06, 3.988798744103406e-06, 5.31920541106956e-06, 7.1137936356535675e-06, 9.226031979778781e-06, 1.1419773327361329e-05, 1.4793144237046378e-05, 1.9095582465524793e-05, 2.475738070643269e-05, 2.994239694089629e-05, 3.747313523490447e-05, 4.589116360875778e-05, 5.509261296538179e-05, 7.080106937792151e-05, 8.628593728644794e-05, 0.00010185462917434064, 0.00011636659692158, 0.00013587094261311003, 0.0001695128201390615, 0.0002018116577528417, 0.00023325819987803683, 0.0002707554667722434, 0.00032691475818865003, 0.0003873660264071076, 0.0004602617345517503, 0.0005417447001673281, 0.000613693852210418, 0.0007214113627560436, 0.0008458970021456488, 0.0010115909902378927, 0.001194240378681568, 0.001392530975863337, 0.0016358029283583167, 0.001962049137800932, 0.002330023669637738, 0.0029427519068121887, 0.0034398415591567755, 0.004171337559819224, 0.005605157744139434, 0.006819210741668934, 0.008625855408608912, 0.010682210139930254, 0.013381461054086718, 0.016164414435625052, 0.0198863685503602, 0.02450014613568783, 0.029730797931551922, 0.03855999872088432, 0.04761514820158478, 0.06177401542663574, 0.07494841143488892, 0.09104751646518709, 0.10651905655860895, 0.12527558207511902, 0.14913642168045044, 0.16509837448596948, 0.1886958613991737, 0.21792721152305605, 0.2350362542271615, 0.24382574439048763, 0.24967072546482086, 0.340810626745224]\n"
     ]
    }
   ],
   "source": [
    "\n",
    "err_indices = (np.sum(seg_errors, axis=1) >= 1).astype(np.bool)\n",
    "\n",
    "a_map_perc = np.percentile(a_map, (0, 100))\n",
    "print(np.sum(a_map))\n",
    "print(a_map_perc)\n",
    "\n",
    "# a_map_err = np.zeros_like(a_map)\n",
    "# a_map_err[err_indices] = a_map[err_indices] > 0\n",
    "a_map_err = a_map[err_indices]\n",
    "print(a_map_err.shape)\n",
    "print(np.sum(a_map_err != 0))\n",
    "print(np.sum(a_map_err))\n",
    "\n",
    "percs = [np.percentile(a_map_err, p) for p in range(1, 101, 1)]\n",
    "print(len(percs))\n",
    "print(percs)\n"
   ]
  },
  {
   "cell_type": "markdown",
   "metadata": {},
   "source": [
    "## Load segmentation-only results\n",
    "\n",
    "**Important**: Don't forget to set mc dropout parameter properly\n"
   ]
  },
  {
   "cell_type": "code",
   "execution_count": 17,
   "metadata": {},
   "outputs": [
    {
     "name": "stdout",
     "output_type": "stream",
     "text": [
      "INFO - /home/jorg/expers/acdc/f0/drn_mc_dice/results_f0_25_mc.npz\n",
      "INFO - /home/jorg/expers/acdc/f1/drn_mc_dice/results_f1_25_mc.npz\n",
      "INFO - /home/jorg/expers/acdc/f2/drn_mc_dice/results_f2_25_mc.npz\n",
      "INFO - /home/jorg/expers/acdc/f3/drn_mc_dice/results_f3_25_mc.npz\n",
      " & DRN-SD &  &  & 0.963$\\pm$0.02 & 0.935$\\pm$0.03 & 0.886$\\pm$0.03  & 0.921$\\pm$0.06 & 0.857$\\pm$0.09 & 0.899$\\pm$0.03 \\\\ \n",
      " & DRN-SD &  &  &  5.7$\\pm$3.2 & 11.5$\\pm$5.1 & 8.0$\\pm$5.5 & 8.3$\\pm$4.5 & 13.3$\\pm$5.1 & 8.9$\\pm$5.1 \\\\\n",
      "INFO -  dict_keys(['mean_dice_es', 'mean_dice_ed', 'std_dice_es', 'std_dice_ed', 'mean_hd_es', 'mean_hd_ed', 'std_hd_es', 'std_hd_ed', 'dice_es', 'dice_ed', 'hd_es', 'hd_ed'])\n"
     ]
    }
   ],
   "source": [
    "from evaluate.test_results import load_results\n",
    "\n",
    "model_name = \"drn_mc_dice\"\n",
    "src_path = \"~/expers/acdc/*/\" + model_name\n",
    "mc_dropout = True\n",
    "\n",
    "res_seg_only, _, _ = load_results(src_path, mc_dropout=mc_dropout, num_fold=4, \n",
    "                            file_prefix=\"results\", num_patients=25)\n",
    "\n",
    "print(\"INFO - \", res_seg_only.keys())"
   ]
  },
  {
   "cell_type": "markdown",
   "metadata": {},
   "source": [
    "## Load combined segmentation-detection results\n",
    "\n",
    "**Important**: Don't forget to set mc dropout parameter properly!"
   ]
  },
  {
   "cell_type": "code",
   "execution_count": 19,
   "metadata": {},
   "outputs": [
    {
     "name": "stdout",
     "output_type": "stream",
     "text": [
      "Load results from /home/jorg/expers/acdc/drn_mc_dice/results_fall_100_mc.npz\n",
      " &  &  & x & 0.965$\\pm$0.01 & *0.942$\\pm$0.02 & 0.890$\\pm$0.03  & 0.935$\\pm$0.04 & *0.897$\\pm$0.05 & *0.908$\\pm$0.03 \\\\ \n",
      " &  &  & x &  5.1$\\pm$2.8 & *10.2$\\pm$4.4 & 7.1$\\pm$5.2 & *6.5$\\pm$4.3 & *11.6$\\pm$4.9 & *7.7$\\pm$4.8 \\\\\n"
     ]
    }
   ],
   "source": [
    "from evaluate.test_results import load_results_sim_correction\n",
    "\n",
    "src_path = \"~/expers/acdc/\" + model_name\n",
    "result_type = \"detection\"   # 'det_base' or 'detection' default='detection'\n",
    "\n",
    "\n",
    "_ = load_results_sim_correction(src_path, mc_dropout=mc_dropout, \n",
    "                                result_type=result_type, base_results=res_seg_only)"
   ]
  },
  {
   "cell_type": "code",
   "execution_count": 33,
   "metadata": {},
   "outputs": [
    {
     "name": "stdout",
     "output_type": "stream",
     "text": [
      "dict_keys(['patient021'])\n"
     ]
    }
   ],
   "source": []
  },
  {
   "cell_type": "code",
   "execution_count": 5,
   "metadata": {},
   "outputs": [
    {
     "name": "stdout",
     "output_type": "stream",
     "text": [
      "(9, 4, 256, 256)\n",
      "[0 1 2 3]\n"
     ]
    }
   ],
   "source": [
    "patient_id = \"patient025\"\n",
    "print(pred_labels[patient_id].shape)\n",
    "mask = np.argmax(pred_labels[patient_id], axis=1)\n",
    "print(np.unique(mask))"
   ]
  },
  {
   "cell_type": "code",
   "execution_count": 126,
   "metadata": {},
   "outputs": [
    {
     "name": "stdout",
     "output_type": "stream",
     "text": [
      "{'A': 7, 'B': 0}\n",
      "(256, 216) (256, 216)\n",
      "0.0 0.0\n"
     ]
    },
    {
     "data": {
      "image/png": "[encoded data removed]",
      "text/plain": [
       "<Figure size 432x288 with 1 Axes>"
      ]
     },
     "metadata": {
      "needs_background": "light"
     },
     "output_type": "display_data"
    },
    {
     "data": {
      "image/png": "[encoded data removed]",
      "text/plain": [
       "<Figure size 432x288 with 1 Axes>"
      ]
     },
     "metadata": {
      "needs_background": "light"
     },
     "output_type": "display_data"
    },
    {
     "data": {
      "image/png": "[encoded data removed]",
      "text/plain": [
       "<Figure size 432x288 with 1 Axes>"
      ]
     },
     "metadata": {
      "needs_background": "light"
     },
     "output_type": "display_data"
    },
    {
     "data": {
      "image/png": "[encoded data removed]",
      "text/plain": [
       "<Figure size 432x288 with 1 Axes>"
      ]
     },
     "metadata": {
      "needs_background": "light"
     },
     "output_type": "display_data"
    },
    {
     "data": {
      "image/png": "[encoded data removed]",
      "text/plain": [
       "<Figure size 432x288 with 1 Axes>"
      ]
     },
     "metadata": {
      "needs_background": "light"
     },
     "output_type": "display_data"
    }
   ],
   "source": [
    "patient_id = \"patient018\"\n",
    "max_slice = 7  #ref_labels[patient_id].shape[0] - 1\n",
    "slice_id = max_slice\n",
    "\n",
    "\n",
    "print(apex_base[patient_id])\n",
    "dt_slice = np.sum(dt_labels[patient_id][slice_id], axis=0)\n",
    "umap_slice = umaps[patient_id]['umap'][slice_id]\n",
    "u_error = copy.deepcopy(umap_slice)\n",
    "print(dt_slice.shape, u_error.shape)\n",
    "\n",
    "u_error[u_error > 0.00001] = 0\n",
    "print(np.min(u_error), np.max(u_error))\n",
    "\n",
    "plt.imshow(u_error, cmap=plt.get_cmap('plasma'), vmin=0, vmax=0.00001)\n",
    "plt.show()\n",
    "\n",
    "\n",
    "plt.imshow(dt_slice, cmap=plt.get_cmap('gray'))\n",
    "plt.show()\n",
    "\n",
    "ref_slice = np.sum(ref_labels[patient_id][slice_id][1:], axis=0)\n",
    "plt.imshow(ref_slice, cmap=plt.get_cmap('gray'))\n",
    "plt.show()\n",
    "\n",
    "pred_slice = np.sum(pred_labels[patient_id][slice_id][1:], axis=0)\n",
    "plt.imshow(pred_slice, cmap=plt.get_cmap('gray'))\n",
    "plt.show()\n",
    "\n",
    "\n",
    "plt.imshow(pred_slice - dt_slice, cmap=plt.get_cmap('gray'))\n",
    "plt.show()"
   ]
  },
  {
   "cell_type": "code",
   "execution_count": 34,
   "metadata": {},
   "outputs": [
    {
     "data": {
      "image/png": "[encoded data removed]",
      "text/plain": [
       "<Figure size 432x288 with 1 Axes>"
      ]
     },
     "metadata": {
      "needs_background": "light"
     },
     "output_type": "display_data"
    },
    {
     "name": "stdout",
     "output_type": "stream",
     "text": [
      "0.0075488887 0.6230238\n",
      "0.0 0.6230238\n"
     ]
    },
    {
     "data": {
      "image/png": "[encoded data removed]",
      "text/plain": [
       "<Figure size 432x288 with 1 Axes>"
      ]
     },
     "metadata": {
      "needs_background": "light"
     },
     "output_type": "display_data"
    }
   ],
   "source": [
    "from utils.box_utils import find_box_four_rois, BoundingBox\n",
    "\n",
    "patient_id = \"patient037\"\n",
    "slice_id = 0\n",
    "src_data_path = \"/home/jorg/expers/acdc/f0/dcnn_mcc\"\n",
    "amap_fname = os.path.join(os.path.join(src_data_path, \"umaps\"), patient_id + \"_ES_aleatoric.nii.gz\")\n",
    "a_map = sitk.GetArrayFromImage(sitk.ReadImage(amap_fname))\n",
    "# normalize \n",
    "a_map = (a_map - np.min(a_map)) / (np.max(a_map) - np.min(a_map))\n",
    "a_map_slice = a_map[slice_id]\n",
    "\n",
    "fname = os.path.join(os.path.join(src_data_path, \"pred_labels\"), patient_id + \"_ES.nii.gz\")\n",
    "pred_labels = sitk.GetArrayFromImage(sitk.ReadImage(fname))[slice_id]\n",
    "\n",
    "slice_x, slice_y = BoundingBox.convert_to_slices(find_box_four_rois(pred_labels, padding=40)[0])\n",
    "\n",
    "plt.imshow(pred_labels, cmap=plt.get_cmap('gray'))\n",
    "plt.show()\n",
    "\n",
    "# a_map_slice[slice_x, slice_y]\n",
    "print(np.min(a_map_slice[slice_x, slice_y]), np.max(a_map_slice[slice_x, slice_y]))\n",
    "print(np.min(a_map_slice), np.max(a_map_slice))\n",
    "plt.imshow(a_map_slice[slice_x, slice_y], cmap=plt.get_cmap('plasma'))\n",
    "plt.show()"
   ]
  },
  {
   "cell_type": "code",
   "execution_count": 12,
   "metadata": {
    "scrolled": false
   },
   "outputs": [
    {
     "name": "stdout",
     "output_type": "stream",
     "text": [
      "(4, 256, 216) (4, 256, 216)\n",
      "1.8167547e-07 0.11224558\n"
     ]
    },
    {
     "data": {
      "image/png": "[encoded data removed]",
      "text/plain": [
       "<Figure size 432x288 with 1 Axes>"
      ]
     },
     "metadata": {
      "needs_background": "light"
     },
     "output_type": "display_data"
    },
    {
     "data": {
      "image/png": "[encoded data removed]",
      "text/plain": [
       "<Figure size 432x288 with 1 Axes>"
      ]
     },
     "metadata": {
      "needs_background": "light"
     },
     "output_type": "display_data"
    },
    {
     "data": {
      "image/png": "[encoded data removed]",
      "text/plain": [
       "<Figure size 432x288 with 1 Axes>"
      ]
     },
     "metadata": {
      "needs_background": "light"
     },
     "output_type": "display_data"
    },
    {
     "data": {
      "image/png": "[encoded data removed]",
      "text/plain": [
       "<Figure size 432x288 with 1 Axes>"
      ]
     },
     "metadata": {
      "needs_background": "light"
     },
     "output_type": "display_data"
    }
   ],
   "source": [
    "from utils.common import detect_seg_errors\n",
    "\n",
    "patient_id = \"patient037\"\n",
    "slice_id = 2\n",
    "\n",
    "\n",
    "amap_fname = os.path.join(os.path.join(src_data_path, \"umaps\"), patient_id + \"_ES_aleatoric.nii.gz\")\n",
    "a_map = sitk.GetArrayFromImage(sitk.ReadImage(amap_fname))[slice_id]\n",
    "emap = umaps[patient_id]['umap'][slice_id]\n",
    "pred_labels_slice = pred_labels[patient_id][slice_id]\n",
    "ref_labels_slice = ref_labels[patient_id][slice_id]\n",
    "\n",
    "print(pred_labels_slice.shape, ref_labels_slice.shape)\n",
    "print(np.min(a_map), np.max(a_map))\n",
    "seg_errors_slice = detect_seg_errors(ref_labels_slice, pred_labels_slice, is_multi_class=False)\n",
    "pred_labels_multi = np.zeros_like(emap)\n",
    "for i in np.arange(pred_labels_slice.shape[0]):\n",
    "    pred_labels_multi[pred_labels_slice[i] == 1] = i\n",
    "\n",
    "plt.imshow(emap, cmap=plt.get_cmap('plasma'))\n",
    "plt.show()\n",
    "\n",
    "plt.imshow(a_map, cmap=plt.get_cmap('plasma'))\n",
    "plt.show()\n",
    "\n",
    "plt.imshow(seg_errors_slice, cmap=cm.gray)\n",
    "plt.show()\n",
    "\n",
    "plt.imshow(pred_labels_multi.astype(np.int16), cmap=cm.gray)\n",
    "plt.show()"
   ]
  },
  {
   "cell_type": "code",
   "execution_count": 57,
   "metadata": {},
   "outputs": [
    {
     "name": "stdout",
     "output_type": "stream",
     "text": [
      "(9, 256, 216)\n",
      "(9, 256, 216)\n"
     ]
    }
   ],
   "source": [
    "\n",
    "fname = \"~/expers/acdc/f0/dcnn_mc_brier/umaps/patient017_ES_bmap.nii.gz\"\n",
    "bmap = sitk.GetArrayFromImage(sitk.ReadImage(os.path.expanduser(fname)))\n",
    "print(bmap.shape)\n",
    "fname = \"~/expers/acdc/f0/dcnn_mc_brier/umaps/patient017_ED_emap.nii.gz\"\n",
    "emap = sitk.GetArrayFromImage(sitk.ReadImage(os.path.expanduser(fname)))\n",
    "print(emap.shape)"
   ]
  },
  {
   "cell_type": "code",
   "execution_count": 54,
   "metadata": {},
   "outputs": [
    {
     "name": "stdout",
     "output_type": "stream",
     "text": [
      "(7, 256, 216)\n"
     ]
    },
    {
     "data": {
      "image/png": "[encoded data removed]",
      "text/plain": [
       "<Figure size 432x288 with 1 Axes>"
      ]
     },
     "metadata": {
      "needs_background": "light"
     },
     "output_type": "display_data"
    },
    {
     "data": {
      "image/png": "[encoded data removed]",
      "text/plain": [
       "<Figure size 432x288 with 1 Axes>"
      ]
     },
     "metadata": {
      "needs_background": "light"
     },
     "output_type": "display_data"
    },
    {
     "data": {
      "image/png": "[encoded data removed]",
      "text/plain": [
       "<Figure size 432x288 with 1 Axes>"
      ]
     },
     "metadata": {
      "needs_background": "light"
     },
     "output_type": "display_data"
    }
   ],
   "source": [
    "fname = \"~/expers/acdc/dcnn_mc_dice/heat_maps/patient037_ED.nii.gz\"\n",
    "dt_probs_dice = sitk.GetArrayFromImage(sitk.ReadImage(os.path.expanduser(fname)))\n",
    "fname = fname.replace(\"heat_maps\", \"corr_pred_labels\")\n",
    "dt_probs_brier = sitk.GetArrayFromImage(sitk.ReadImage(os.path.expanduser(fname)))\n",
    "fname = fname.replace(\"corr_pred_labels\", \"dt_labels/fixed_46_31\")\n",
    "fname = fname.replace(\".nii.gz\", \".npz\")\n",
    "dt_labels = np.argmax(np.load(os.path.expanduser(fname))['dt_ref_labels'], axis=1)\n",
    "print(dt_labels.shape)\n",
    "\n",
    "slice_id = 0\n",
    "\n",
    "plt.imshow(dt_labels[slice_id], cmap=cm.gray)\n",
    "plt.show()\n",
    "plt.imshow(dt_probs_dice[slice_id] >= 0.5, cmap=cm.plasma)\n",
    "plt.show()\n",
    "plt.imshow(dt_probs_brier[slice_id], cmap=cm.plasma)\n",
    "plt.show()"
   ]
  },
  {
   "cell_type": "code",
   "execution_count": 20,
   "metadata": {},
   "outputs": [
    {
     "name": "stdout",
     "output_type": "stream",
     "text": [
      "(8, 256, 216) int32 [0 1 2 3]\n"
     ]
    },
    {
     "data": {
      "image/png": "[encoded data removed]",
      "text/plain": [
       "<Figure size 432x288 with 1 Axes>"
      ]
     },
     "metadata": {
      "needs_background": "light"
     },
     "output_type": "display_data"
    }
   ],
   "source": [
    "fname = os.path.expanduser(\"~/expers/acdc/drn_mc_ce/corr_pred_labels/patient018_ES.nii.gz\")\n",
    "corr_labels = sitk.GetArrayFromImage(sitk.ReadImage(fname))\n",
    "print(corr_labels.shape, corr_labels.dtype, np.unique(corr_labels))\n",
    "\n",
    "plt.imshow(corr_labels[0], cmap=cm.gray)\n",
    "plt.show()"
   ]
  },
  {
   "cell_type": "code",
   "execution_count": 84,
   "metadata": {},
   "outputs": [
    {
     "data": {
      "image/png": "[encoded data removed]",
      "text/plain": [
       "<Figure size 432x288 with 1 Axes>"
      ]
     },
     "metadata": {
      "needs_background": "light"
     },
     "output_type": "display_data"
    }
   ],
   "source": [
    "plt.imshow(emap[11], cmap=cm.plasma)\n",
    "plt.show()\n"
   ]
  },
  {
   "cell_type": "code",
   "execution_count": 56,
   "metadata": {},
   "outputs": [
    {
     "name": "stdout",
     "output_type": "stream",
     "text": [
      "['dice_es', 'dice_ed', 'hd_es', 'hd_ed', 'mean_dice_es', 'mean_dice_ed', 'mean_hd_es', 'mean_hd_ed', 'std_dice_es', 'std_dice_ed', 'std_hd_es', 'std_hd_ed', 'ids']\n",
      "[0.   0.93 0.86 0.95]\n",
      "[0.   0.87 0.88 0.9 ]\n",
      "[ 0.   10.32  7.04  5.19]\n",
      "[ 0.   13.51  9.47  9.72]\n"
     ]
    }
   ],
   "source": [
    "fname = \"/home/jorg/expers/acdc/drn_mc_augbrierv2_cyclic/results_f0_25.npz\"\n",
    "results = np.load(fname)\n",
    "print(results.files)\n",
    "pat_ids, mean_dice_es, mean_hd_es = results['ids'], results['mean_dice_es'], results['mean_hd_es']\n",
    "mean_dice_ed, mean_hd_ed = results['mean_dice_ed'], results['mean_hd_ed']\n",
    "print(np.round(mean_dice_ed, decimals=2))\n",
    "print(np.round(mean_dice_es, decimals=2))\n",
    "print(np.round(mean_hd_ed, decimals=2))\n",
    "print(np.round(mean_hd_es, decimals=2))"
   ]
  },
  {
   "cell_type": "code",
   "execution_count": 88,
   "metadata": {},
   "outputs": [
    {
     "data": {
      "image/png": "[encoded data removed]",
      "text/plain": [
       "<Figure size 432x288 with 1 Axes>"
      ]
     },
     "metadata": {
      "needs_background": "light"
     },
     "output_type": "display_data"
    }
   ],
   "source": [
    "loss_fname = \"/home/jorg/expers/acdc/drn_mc_dicev3/losses.npz\"\n",
    "loss = np.load(loss_fname)['training']\n",
    "\n",
    "n=1\n",
    "plt.plot(loss[:])\n",
    "plt.show()"
   ]
  },
  {
   "cell_type": "code",
   "execution_count": 36,
   "metadata": {},
   "outputs": [
    {
     "name": "stderr",
     "output_type": "stream",
     "text": [
      "Load ARVC: 100%|██████████| 4/4 [00:02<00:00,  1.75it/s]\n"
     ]
    }
   ],
   "source": [
    "from datasets.ARVC.dataset import load_data\n",
    "\n",
    "data_config = get_config(dataset=\"ARVC\")\n",
    "dataset = load_data(data_config, limited_load=True, load_ref_labels=True)"
   ]
  },
  {
   "cell_type": "code",
   "execution_count": 39,
   "metadata": {},
   "outputs": [
    {
     "name": "stdout",
     "output_type": "stream",
     "text": [
      "dict_keys(['30010_0', '30022_0', '30023_0', '30023_1'])\n",
      "(17, 256, 256) [8.00000095 1.20814538 1.20814538]\n"
     ]
    }
   ],
   "source": [
    "print(dataset.keys())\n",
    "patient_id = '30023_1'\n",
    "frame_es = 9\n",
    "frame_ed = 29\n",
    "spacing = dataset[patient_id]['spacing'][1:]\n",
    "labels_es = dataset[patient_id]['labels'][frame_es]\n",
    "labels_ed = dataset[patient_id]['labels'][frame_ed]\n",
    "lv_labels_es, rv_labels_es = labels_es == 1, labels_es == 2\n",
    "lv_labels_ed, rv_labels_ed = labels_ed == 1, labels_ed == 2\n",
    "print(lv_labels_es.shape, spacing)"
   ]
  },
  {
   "cell_type": "code",
   "execution_count": 44,
   "metadata": {},
   "outputs": [
    {
     "name": "stdout",
     "output_type": "stream",
     "text": [
      "102.34823418045137 200.27091436724717 48.89510815695878 97.9226801867958\n"
     ]
    }
   ],
   "source": [
    "from utils.cardiac_indices import compute_ejection_fraction\n",
    "\n",
    "esv, edv, ef = compute_ejection_fraction(lv_labels_es, lv_labels_ed, spacing)\n",
    "print(esv, edv, ef, edv-esv)"
   ]
  },
  {
   "cell_type": "code",
   "execution_count": 41,
   "metadata": {},
   "outputs": [
    {
     "name": "stdout",
     "output_type": "stream",
     "text": [
      "(8, 256, 256) (8, 256, 256)\n",
      "[0. 1.]\n"
     ]
    },
    {
     "data": {
      "image/png": "[encoded data removed]",
      "text/plain": [
       "<Figure size 576x432 with 1 Axes>"
      ]
     },
     "metadata": {
      "needs_background": "light"
     },
     "output_type": "display_data"
    },
    {
     "data": {
      "image/png": "[encoded data removed]",
      "text/plain": [
       "<Figure size 576x432 with 1 Axes>"
      ]
     },
     "metadata": {
      "needs_background": "light"
     },
     "output_type": "display_data"
    }
   ],
   "source": [
    "fname = \"/home/bob/data/SunnyBrook_clean/contour_nii/SC-N-05_icontour_ES.nii.gz\"\n",
    "icontour_data = sitk.ReadImage(fname)\n",
    "icontour_labels = sitk.GetArrayFromImage(icontour_data)\n",
    "\n",
    "fname = \"/home/bob/data/SunnyBrook_clean/contour_nii/SC-N-05_ocontour_ES.nii.gz\"\n",
    "ocontour_data = sitk.ReadImage(fname)\n",
    "ocontour_labels = sitk.GetArrayFromImage(ocontour_data)\n",
    "\n",
    "print(icontour_labels.shape, ocontour_labels.shape)\n",
    "print(np.unique(ocontour_labels))\n",
    "\n",
    "slice_id = 3\n",
    "\n",
    "plt.rcParams['figure.figsize'] = [8, 6]\n",
    "plt.imshow(icontour_labels[slice_id], cmap=cm.gray)\n",
    "plt.show()\n",
    "plt.imshow(ocontour_labels[slice_id], cmap=cm.gray)\n",
    "plt.show()"
   ]
  },
  {
   "cell_type": "code",
   "execution_count": 34,
   "metadata": {},
   "outputs": [],
   "source": [
    "from datasets.data_config import get_config\n",
    "\n",
    "dta_settings = get_config(\"ARVC\")\n",
    "image_dir = dta_settings.short_axis_dir\n",
    "contour_label_dir = dta_settings.ref_label_dir\n"
   ]
  },
  {
   "cell_type": "code",
   "execution_count": 92,
   "metadata": {},
   "outputs": [
    {
     "name": "stdout",
     "output_type": "stream",
     "text": [
      "(30, 15, 256, 256)\n",
      "(1.25, 1.25, 8.000003814697266, 1.0)\n",
      "Label shape  (30, 15, 256, 256)\n",
      "[0 1 2]\n"
     ]
    }
   ],
   "source": [
    "patient_id = \"NLUTR11_7_0\"  # frames 10, 11, 30\n",
    "fname = os.path.join(image_dir, patient_id + \".nii.gz\")\n",
    "img_data = sitk.ReadImage(fname)\n",
    "print(img_data.GetSize()[::-1])\n",
    "print(img_data.GetSpacing())\n",
    "\n",
    "fname = os.path.join(contour_label_dir, patient_id + \".nii.gz\")\n",
    "nifti_ref_labels = sitk.ReadImage(fname)\n",
    "ref_labels = sitk.GetArrayFromImage(nifti_ref_labels)\n",
    "print(\"Label shape \", ref_labels.shape)\n",
    "num_frames, num_slices, y, x = ref_labels.shape\n",
    "print(np.unique(ref_labels))"
   ]
  },
  {
   "cell_type": "code",
   "execution_count": 93,
   "metadata": {
    "scrolled": false
   },
   "outputs": [
    {
     "name": "stdout",
     "output_type": "stream",
     "text": [
      "[0 2]\n"
     ]
    },
    {
     "data": {
      "image/png": "[encoded data removed]",
      "text/plain": [
       "<Figure size 2880x3240 with 1 Axes>"
      ]
     },
     "metadata": {
      "needs_background": "light"
     },
     "output_type": "display_data"
    },
    {
     "data": {
      "image/png": "[encoded data removed]",
      "text/plain": [
       "<Figure size 2880x3240 with 1 Axes>"
      ]
     },
     "metadata": {
      "needs_background": "light"
     },
     "output_type": "display_data"
    },
    {
     "data": {
      "image/png": "[encoded data removed]",
      "text/plain": [
       "<Figure size 2880x3240 with 1 Axes>"
      ]
     },
     "metadata": {
      "needs_background": "light"
     },
     "output_type": "display_data"
    },
    {
     "data": {
      "image/png": "[encoded data removed]",
      "text/plain": [
       "<Figure size 2880x3240 with 1 Axes>"
      ]
     },
     "metadata": {
      "needs_background": "light"
     },
     "output_type": "display_data"
    },
    {
     "data": {
      "image/png": "[encoded data removed]",
      "text/plain": [
       "<Figure size 2880x3240 with 1 Axes>"
      ]
     },
     "metadata": {
      "needs_background": "light"
     },
     "output_type": "display_data"
    },
    {
     "data": {
      "image/png": "[encoded data removed]",
      "text/plain": [
       "<Figure size 2880x3240 with 1 Axes>"
      ]
     },
     "metadata": {
      "needs_background": "light"
     },
     "output_type": "display_data"
    },
    {
     "data": {
      "image/png": "[encoded data removed]",
      "text/plain": [
       "<Figure size 2880x3240 with 1 Axes>"
      ]
     },
     "metadata": {
      "needs_background": "light"
     },
     "output_type": "display_data"
    },
    {
     "data": {
      "image/png": "[encoded data removed]",
      "text/plain": [
       "<Figure size 2880x3240 with 1 Axes>"
      ]
     },
     "metadata": {
      "needs_background": "light"
     },
     "output_type": "display_data"
    },
    {
     "data": {
      "image/png": "[encoded data removed]",
      "text/plain": [
       "<Figure size 2880x3240 with 1 Axes>"
      ]
     },
     "metadata": {
      "needs_background": "light"
     },
     "output_type": "display_data"
    },
    {
     "data": {
      "image/png": "[encoded data removed]",
      "text/plain": [
       "<Figure size 2880x3240 with 1 Axes>"
      ]
     },
     "metadata": {
      "needs_background": "light"
     },
     "output_type": "display_data"
    },
    {
     "data": {
      "image/png": "[encoded data removed]",
      "text/plain": [
       "<Figure size 2880x3240 with 1 Axes>"
      ]
     },
     "metadata": {
      "needs_background": "light"
     },
     "output_type": "display_data"
    },
    {
     "data": {
      "image/png": "[encoded data removed]",
      "text/plain": [
       "<Figure size 2880x3240 with 1 Axes>"
      ]
     },
     "metadata": {
      "needs_background": "light"
     },
     "output_type": "display_data"
    },
    {
     "data": {
      "image/png": "[encoded data removed]",
      "text/plain": [
       "<Figure size 2880x3240 with 1 Axes>"
      ]
     },
     "metadata": {
      "needs_background": "light"
     },
     "output_type": "display_data"
    },
    {
     "data": {
      "image/png": "[encoded data removed]",
      "text/plain": [
       "<Figure size 2880x3240 with 1 Axes>"
      ]
     },
     "metadata": {
      "needs_background": "light"
     },
     "output_type": "display_data"
    },
    {
     "data": {
      "image/png": "[encoded data removed]",
      "text/plain": [
       "<Figure size 2880x3240 with 1 Axes>"
      ]
     },
     "metadata": {
      "needs_background": "light"
     },
     "output_type": "display_data"
    }
   ],
   "source": [
    "plt.rcParams['figure.figsize'] = [40, 45]\n",
    "frame_id = 9\n",
    "\n",
    "ref_label_volume = ref_labels[frame_id]\n",
    "print(np.unique(ref_label_volume))\n",
    "# 28: 1=LV 2=RV \n",
    "\n",
    "num_rows = ((num_slices / 2) + 1) * 100\n",
    "plot_id = num_rows + 21\n",
    "for s in range(num_slices):\n",
    "    ax = plt.subplot(plot_id + s)\n",
    "    ax.imshow(ref_label_volume[s] ==2 , cmap=cm.gray)\n",
    "    plt.axis(\"off\")\n",
    "    plt.show()"
   ]
  }
 ],
 "metadata": {
  "kernelspec": {
   "display_name": "Python 3",
   "language": "python",
   "name": "python3"
  },
  "language_info": {
   "codemirror_mode": {
    "name": "ipython",
    "version": 3
   },
   "file_extension": ".py",
   "mimetype": "text/x-python",
   "name": "python",
   "nbconvert_exporter": "python",
   "pygments_lexer": "ipython3",
   "version": "3.6.9"
  }
 },
 "nbformat": 4,
 "nbformat_minor": 2
}
