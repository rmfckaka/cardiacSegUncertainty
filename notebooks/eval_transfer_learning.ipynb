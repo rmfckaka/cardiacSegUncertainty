{
 "cells": [
  {
   "cell_type": "code",
   "execution_count": 1,
   "metadata": {},
   "outputs": [
    {
     "name": "stdout",
     "output_type": "stream",
     "text": [
      "Ready\n"
     ]
    }
   ],
   "source": [
    "from __future__ import print_function\n",
    "\n",
    "import sys\n",
    "import socket\n",
    "import os\n",
    "\n",
    "if socket.gethostname() == \"qiaubuntu\" or socket.gethostname() == \"toologic-ubuntu2\":\n",
    "    repo_path = os.path.expanduser('~/repository/model_evaluation')\n",
    "else:\n",
    "    repo_path = os.path.expanduser('~/repo/model_evaluation')\n",
    "sys.path.extend([repo_path])\n",
    "\n",
    "import matplotlib\n",
    "import matplotlib.pyplot as plt\n",
    "\n",
    "from matplotlib import cm\n",
    "\n",
    "from datetime import datetime\n",
    "from pytz import timezone\n",
    "import copy\n",
    "\n",
    "import numpy as np\n",
    "import cv2\n",
    "import SimpleITK as sitk\n",
    "import torch\n",
    "from tqdm import tqdm\n",
    "\n",
    "import dill\n",
    "import glob\n",
    "from collections import OrderedDict\n",
    "\n",
    "from datasets.data_config import get_config\n",
    "\n",
    "%matplotlib inline\n",
    "%load_ext autoreload\n",
    "%autoreload 2\n",
    "print(\"Ready\")"
   ]
  },
  {
   "cell_type": "markdown",
   "metadata": {},
   "source": [
    "| Metric         | from scratch           | drn dflt augs    | drn adv augs  | unet_mc dflt | dcnn_mc dflt |unet_mc adv | dcnn_mc adv |\n",
    "| :------------- |:---------------------: |:----------------:|:-------------:|:------------:|:------------:|:------------:|:------------:|\n",
    "| ED-RV DSC (HD) |     0.92 (11.56)       |    0.87 (14.78)  | 0.90 (12.17)  | 0.88 (17.93) | 0.88 (14.26) | 0.88 (24.39) | 0.88 (13.61) |\n",
    "| ES-RV DSC (HD) |     0.87 (11.90)       |    0.86 (13.45)  | 0.86 (12.04)  | 0.84 (19.99) | 0.85 (15.26) | 0.76 (39.37)  | 0.85 (15.32) |\n",
    "| ED-LV DSC (HD) |     0.95 (7.02)        |    0.92 (12.17)  | 0.91 (11.45)  | 0.93 (12.81) | 0.93 (10.18) | 0.91 (15.06) | 0.93 (9.33) |\n",
    "| ES-LV DSC (HD) |     0.92 (8.10)        |    0.85 (10.30)  | 0.83 (9.19)   | 0.88 (10.63) | 0.85 (9.39)  | 0.85 (14.66) | 0.86 (9.91) |\n"
   ]
  },
  {
   "cell_type": "code",
   "execution_count": null,
   "metadata": {},
   "outputs": [],
   "source": [
    "dcnn_mc default\n",
    "dice(RV/LV):\tED 0.88/0.93\t\n",
    "\t\t\t\t\tHausdorff(RV/LV):\tED 14.26/10.18\t\n",
    "dice(RV/LV):\tES 0.85/0.85\t\n",
    "\t\t\t\t\tHausdorff(RV/LV):\tES 15.26/9.39\t"
   ]
  },
  {
   "cell_type": "code",
   "execution_count": 10,
   "metadata": {},
   "outputs": [
    {
     "name": "stdout",
     "output_type": "stream",
     "text": [
      "DSC advanced dice (RV/LV): ED 0.90/0.91\n",
      "DSC default dice (RV/LV): ED 0.87/0.92\n",
      "DSC advanced dice (RV/LV): ES 0.86/0.83\n",
      "DSC default dice (RV/LV): ES 0.86/0.85\n",
      "HD advanced dice (RV/LV): ED 12.17/11.45\n",
      "HD default dice (RV/LV): ED 14.78/12.17\n",
      "HD advanced dice (RV/LV): ES 12.04/9.19\n",
      "HD default dice (RV/LV): ES 13.45/10.30\n"
     ]
    }
   ],
   "source": [
    "drn_advanced_fname = os.path.expanduser(\"~/expers/acdc/full/drn_advanced/results_f0_61.npz\")\n",
    "drn_default_fname = os.path.expanduser(\"~/expers/acdc/full/drn_default/results_f0_61.npz\")\n",
    "\n",
    "res_drn_advanced = dict(np.load(drn_advanced_fname))\n",
    "res_drn_default = dict(np.load(drn_default_fname))\n",
    "\n",
    "print(\"DSC advanced dice (RV/LV): ED {:.2f}/{:.2f}\".format(res_drn_advanced['mean_dice_ed'][1],\n",
    "                                                           res_drn_advanced['mean_dice_ed'][3]))\n",
    "print(\"DSC default dice (RV/LV): ED {:.2f}/{:.2f}\".format(res_drn_default['mean_dice_ed'][1],\n",
    "                                                           res_drn_default['mean_dice_ed'][3]))\n",
    "\n",
    "print(\"DSC advanced dice (RV/LV): ES {:.2f}/{:.2f}\".format(res_drn_advanced['mean_dice_es'][1],\n",
    "                                                           res_drn_advanced['mean_dice_es'][3]))\n",
    "print(\"DSC default dice (RV/LV): ES {:.2f}/{:.2f}\".format(res_drn_default['mean_dice_es'][1],\n",
    "                                                           res_drn_default['mean_dice_es'][3]))\n",
    "\n",
    "print(\"HD advanced dice (RV/LV): ED {:.2f}/{:.2f}\".format(res_drn_advanced['mean_hd_ed'][1],\n",
    "                                                           res_drn_advanced['mean_hd_ed'][3]))\n",
    "print(\"HD default dice (RV/LV): ED {:.2f}/{:.2f}\".format(res_drn_default['mean_hd_ed'][1],\n",
    "                                                           res_drn_default['mean_hd_ed'][3]))\n",
    "\n",
    "print(\"HD advanced dice (RV/LV): ES {:.2f}/{:.2f}\".format(res_drn_advanced['mean_hd_es'][1],\n",
    "                                                           res_drn_advanced['mean_hd_es'][3]))\n",
    "print(\"HD default dice (RV/LV): ES {:.2f}/{:.2f}\".format(res_drn_default['mean_hd_es'][1],\n",
    "                                                           res_drn_default['mean_hd_es'][3]))"
   ]
  },
  {
   "cell_type": "code",
   "execution_count": 62,
   "metadata": {},
   "outputs": [
    {
     "name": "stdout",
     "output_type": "stream",
     "text": [
      "(15, 256, 256)\n"
     ]
    }
   ],
   "source": [
    "from datasets.common import read_nifty\n",
    "from scipy.ndimage.morphology import binary_dilation, binary_opening, binary_erosion\n",
    "from scipy.ndimage import generate_binary_structure\n",
    "\n",
    "advanced_labels = os.path.expanduser(\"~/expers/acdc/full/drn_advanced/pred_labels/NLUTR6_23_2.nii.gz\")\n",
    "advanced_labels, _ = read_nifty(advanced_labels)\n",
    "\n",
    "lv_volume = (advanced_labels[10]  == 3).astype(np.int16)\n",
    "lv_volume = binary_dilation(lv_volume, iterations=1)\n",
    "print(lv_volume.shape)"
   ]
  },
  {
   "cell_type": "code",
   "execution_count": 63,
   "metadata": {},
   "outputs": [
    {
     "data": {
      "image/png": "[encoded data removed]",
      "text/plain": [
       "<Figure size 864x720 with 3 Axes>"
      ]
     },
     "metadata": {
      "needs_background": "light"
     },
     "output_type": "display_data"
    }
   ],
   "source": [
    "\n",
    "plt.rcParams['figure.figsize'] = [12, 10]\n",
    "pred_labels_adv = advanced_labels[10, 2]\n",
    "\n",
    "lv_slice = (pred_labels_adv == 3).astype(np.int16)\n",
    "lv_dil_slice = lv_volume[2]\n",
    "\n",
    "\n",
    "plt.subplot(131)\n",
    "plt.imshow(lv_slice, cmap=cm.gray)\n",
    "plt.subplot(132)\n",
    "plt.imshow(lv_dil_slice, cmap=cm.gray)\n",
    "plt.subplot(133)\n",
    "plt.imshow(lv_dil_slice - lv_slice, cmap=cm.gray)\n",
    "plt.show()"
   ]
  }
 ],
 "metadata": {
  "kernelspec": {
   "display_name": "Python 3",
   "language": "python",
   "name": "python3"
  },
  "language_info": {
   "codemirror_mode": {
    "name": "ipython",
    "version": 3
   },
   "file_extension": ".py",
   "mimetype": "text/x-python",
   "name": "python",
   "nbconvert_exporter": "python",
   "pygments_lexer": "ipython3",
   "version": "3.6.8"
  }
 },
 "nbformat": 4,
 "nbformat_minor": 2
}
