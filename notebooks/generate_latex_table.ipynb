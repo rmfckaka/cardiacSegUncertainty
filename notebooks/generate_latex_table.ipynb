{
 "cells": [
  {
   "cell_type": "code",
   "execution_count": 1,
   "metadata": {},
   "outputs": [
    {
     "name": "stdout",
     "output_type": "stream",
     "text": [
      "Ready\n"
     ]
    }
   ],
   "source": [
    "from __future__ import print_function\n",
    "\n",
    "import sys\n",
    "import socket\n",
    "import os\n",
    "\n",
    "repo_path = os.path.expanduser('~/repo/seg_uncertainty')\n",
    "sys.path.extend([repo_path])\n",
    "\n",
    "import matplotlib\n",
    "import matplotlib.pyplot as plt\n",
    "\n",
    "from matplotlib import cm\n",
    "\n",
    "from datetime import datetime\n",
    "from pytz import timezone\n",
    "import copy\n",
    "\n",
    "import numpy as np\n",
    "import cv2\n",
    "import SimpleITK as sitk\n",
    "import torch\n",
    "from tqdm import tqdm\n",
    "\n",
    "import dill\n",
    "import glob\n",
    "from collections import OrderedDict\n",
    "\n",
    "from datasets.data_config import get_config\n",
    "\n",
    "%matplotlib inline\n",
    "%load_ext autoreload\n",
    "%autoreload 2\n",
    "print(\"Ready\")"
   ]
  },
  {
   "cell_type": "markdown",
   "metadata": {},
   "source": [
    "## Generate latex table entries\n",
    "\n",
    "- Don't forget to adjust `model_name`, `mc_dropout`, `src_path`\n",
    "- **Parameter** `result_type`: **dt_base**, baseline for the combined segmentation and detection task. **detection**, actual achieved results through combined approach"
   ]
  },
  {
   "cell_type": "code",
   "execution_count": 9,
   "metadata": {},
   "outputs": [
    {
     "name": "stdout",
     "output_type": "stream",
     "text": [
      "================ unet_mc_dice =============== False ============\n",
      "INFO - /home/jorg/expers/redo_expers/f0/unet_mc_dice/results_f0_25.npz\n",
      "INFO - /home/jorg/expers/redo_expers/f1/unet_mc_dice/results_f1_25.npz\n",
      "INFO - /home/jorg/expers/redo_expers/f2/unet_mc_dice/results_f2_25.npz\n",
      "INFO - /home/jorg/expers/redo_expers/f3/unet_mc_dice/results_f3_25.npz\n",
      "Load results from /home/jorg/expers/redo_expers/unet_mc_dice/results_fall_corrall_100.npz\n",
      "Load results from /home/jorg/expers/redo_expers/unet_mc_dice/results_fall_100.npz\n",
      "-------------------------------- unet_mc_dice False ----------------------------\n",
      " & U-net-SD &  &  & 0.965$\\pm$0.02 & 0.928$\\pm$0.04 & 0.888$\\pm$0.03  & 0.914$\\pm$0.08 & 0.844$\\pm$0.09 & 0.896$\\pm$0.03 \\\\ \n",
      " &  & \\textbf{x} &  & *0.970$\\pm$0.01 & *0.961$\\pm$0.01 & *0.904$\\pm$0.03  & *0.949$\\pm$0.03 & *0.938$\\pm$0.03 & *0.924$\\pm$0.02 \\\\ \n",
      " &  &  & \\textbf{x} & 0.968$\\pm$0.01 & *0.942$\\pm$0.03 & 0.897$\\pm$0.03  & 0.928$\\pm$0.06 & *0.881$\\pm$0.07 & *0.909$\\pm$0.03 \\\\ \n",
      "-------------------------------- Hausdorff ----------------------------\n",
      " & U-net-SD &  &  &  6.1$\\pm$3.9 & 14.1$\\pm$7.6 & 10.6$\\pm$8.4 & 9.2$\\pm$7.1 & 16.3$\\pm$7.5 & 12.6$\\pm$9.6 \\\\\n",
      " &  & \\textbf{x} &  &  *3.9$\\pm$1.6 & *6.8$\\pm$3.6 & *5.9$\\pm$4.1 & *4.8$\\pm$3.3 & *8.8$\\pm$5.9 & *6.1$\\pm$4.2 \\\\\n",
      " &  &  & \\textbf{x} &  *4.8$\\pm$2.7 & *11.9$\\pm$7.5 & *7.7$\\pm$5.9 & *7.2$\\pm$6.3 & *13.9$\\pm$7.5 & *10.5$\\pm$8.9 \\\\\n",
      "================ unet_mc_dice =============== True ============\n",
      "INFO - /home/jorg/expers/redo_expers/f0/unet_mc_dice/results_f0_25_mc.npz\n",
      "INFO - /home/jorg/expers/redo_expers/f1/unet_mc_dice/results_f1_25_mc.npz\n",
      "INFO - /home/jorg/expers/redo_expers/f2/unet_mc_dice/results_f2_25_mc.npz\n",
      "INFO - /home/jorg/expers/redo_expers/f3/unet_mc_dice/results_f3_25_mc.npz\n",
      "Load results from /home/jorg/expers/redo_expers/unet_mc_dice/results_fall_corrall_100_mc.npz\n",
      "Load results from /home/jorg/expers/redo_expers/unet_mc_dice/results_fall_100_mc.npz\n",
      "-------------------------------- unet_mc_dice True ----------------------------\n",
      " & U-net-SD+MC &  &  & 0.965$\\pm$0.02 & 0.929$\\pm$0.04 & 0.889$\\pm$0.03  & 0.911$\\pm$0.10 & 0.845$\\pm$0.09 & 0.897$\\pm$0.03 \\\\ \n",
      " &  & \\textbf{x} &  & *0.970$\\pm$0.01 & *0.960$\\pm$0.01 & *0.904$\\pm$0.03  & *0.950$\\pm$0.03 & *0.937$\\pm$0.03 & *0.925$\\pm$0.02 \\\\ \n",
      " &  &  & \\textbf{x} & 0.968$\\pm$0.01 & *0.949$\\pm$0.03 & *0.900$\\pm$0.03  & *0.929$\\pm$0.09 & *0.899$\\pm$0.05 & *0.915$\\pm$0.02 \\\\ \n",
      "-------------------------------- Hausdorff ----------------------------\n",
      " & U-net-SD+MC &  &  &  6.2$\\pm$3.9 & 14.1$\\pm$7.7 & 10.5$\\pm$8.7 & 9.0$\\pm$7.0 & 15.8$\\pm$7.5 & 12.1$\\pm$9.2 \\\\\n",
      " &  & \\textbf{x} &  &  *3.9$\\pm$1.4 & *7.4$\\pm$4.4 & *6.8$\\pm$6.2 & *5.2$\\pm$3.9 & *9.1$\\pm$5.3 & *6.4$\\pm$4.0 \\\\\n",
      " &  &  & \\textbf{x} &  *4.5$\\pm$2.1 & *9.9$\\pm$6.8 & *7.6$\\pm$7.1 & *7.2$\\pm$6.9 & *12.6$\\pm$5.5 & *9.9$\\pm$8.8 \\\\\n"
     ]
    }
   ],
   "source": [
    "from evaluate.test_results import load_results\n",
    "from evaluate.test_results import load_results_sim_correction\n",
    "\n",
    "model_name = \"unet_mc_dice\"\n",
    "\n",
    "for mc_dropout in [False, True]:\n",
    "    print(\"================ {} =============== {} ============\".format(model_name, mc_dropout))\n",
    "    src_path = \"~/expers/redo_expers/*/\" + model_name\n",
    "    res_seg_only, latex_dsc, latex_hd = load_results(src_path, mc_dropout=mc_dropout, num_fold=4, \n",
    "                                                     file_prefix=\"results\", num_patients=25)\n",
    "\n",
    "    src_path = \"~/expers/redo_expers/\" + model_name\n",
    "\n",
    "\n",
    "    _, latex_dsc_dt_base, latex_hd_dt_base = load_results_sim_correction(\n",
    "                                                src_path, mc_dropout=mc_dropout, \n",
    "                                             result_type=\"det_base\", base_results=res_seg_only)\n",
    "\n",
    "    _, latex_dsc_detect, latex_hd_detect = load_results_sim_correction(\n",
    "                                                src_path, mc_dropout=mc_dropout, \n",
    "                                             result_type=\"detection\", base_results=res_seg_only)\n",
    "\n",
    "    print(\"-------------------------------- {} {} ----------------------------\".format(model_name,\n",
    "                                                                                   mc_dropout))\n",
    "    print(latex_dsc)\n",
    "    print(latex_dsc_dt_base)\n",
    "    print(latex_dsc_detect)\n",
    "    print(\"-------------------------------- {} ----------------------------\".format(\"Hausdorff\"))\n",
    "    print(latex_hd)\n",
    "    print(latex_hd_dt_base)\n",
    "    print(latex_hd_detect)\n"
   ]
  }
 ],
 "metadata": {
  "kernelspec": {
   "display_name": "Python 3",
   "language": "python",
   "name": "python3"
  },
  "language_info": {
   "codemirror_mode": {
    "name": "ipython",
    "version": 3
   },
   "file_extension": ".py",
   "mimetype": "text/x-python",
   "name": "python",
   "nbconvert_exporter": "python",
   "pygments_lexer": "ipython3",
   "version": "3.6.9"
  }
 },
 "nbformat": 4,
 "nbformat_minor": 2
}
