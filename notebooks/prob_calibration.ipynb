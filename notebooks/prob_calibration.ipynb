{
 "cells": [
  {
   "cell_type": "code",
   "execution_count": 1,
   "metadata": {},
   "outputs": [
    {
     "name": "stdout",
     "output_type": "stream",
     "text": [
      "Ready\n"
     ]
    }
   ],
   "source": [
    "from __future__ import print_function\n",
    "\n",
    "import sys\n",
    "import socket\n",
    "import os\n",
    "\n",
    "if socket.gethostname() == \"toologic-ubuntu2\":\n",
    "    repo_path = os.path.expanduser('~/repository/seg_uncertainty')\n",
    "else:\n",
    "    repo_path = os.path.expanduser('~/repo/seg_uncertainty')\n",
    "sys.path.extend([repo_path])\n",
    "\n",
    "import matplotlib\n",
    "import matplotlib.pyplot as plt\n",
    "\n",
    "from matplotlib import cm\n",
    "\n",
    "from datetime import datetime\n",
    "from pytz import timezone\n",
    "import copy\n",
    "\n",
    "import numpy as np\n",
    "import cv2\n",
    "import SimpleITK as sitk\n",
    "\n",
    "from datasets.data_config import get_config\n",
    "from eval_probs.calibration import compute_calibration\n",
    "\n",
    "%matplotlib inline\n",
    "%load_ext autoreload\n",
    "%autoreload 2\n",
    "print(\"Ready\")"
   ]
  },
  {
   "cell_type": "markdown",
   "metadata": {},
   "source": [
    "# Generate softmax calibration statistics for one cardiac phase"
   ]
  },
  {
   "cell_type": "code",
   "execution_count": 61,
   "metadata": {
    "scrolled": true
   },
   "outputs": [
    {
     "name": "stdout",
     "output_type": "stream",
     "text": [
      "INFO - WITH background class\n",
      "INFO - Loading probabilities and predictions from /home/jorg/expers/acdc/dcnn_mc_brier\n"
     ]
    },
    {
     "name": "stderr",
     "output_type": "stream",
     "text": [
      "Processing softmax predictions:  28%|██▊       | 28/100 [00:06<00:15,  4.55it/s]"
     ]
    },
    {
     "name": "stdout",
     "output_type": "stream",
     "text": [
      "WARNING - skipping patient patient029\n"
     ]
    },
    {
     "name": "stderr",
     "output_type": "stream",
     "text": [
      "Processing softmax predictions: 100%|██████████| 100/100 [00:20<00:00,  4.83it/s]\n",
      "Processing softmax predictions:  28%|██▊       | 28/100 [00:06<00:16,  4.47it/s]"
     ]
    },
    {
     "name": "stdout",
     "output_type": "stream",
     "text": [
      "WARNING - skipping patient patient029\n"
     ]
    },
    {
     "name": "stderr",
     "output_type": "stream",
     "text": [
      "Processing softmax predictions: 100%|██████████| 100/100 [00:20<00:00,  4.94it/s]"
     ]
    },
    {
     "name": "stdout",
     "output_type": "stream",
     "text": [
      "[0.88188317 0.47374808 0.45877815 0.2143267 ]\n",
      "[198. 198. 198. 198.]\n",
      "ECE per class  [0.00445396 0.00239267 0.00231706 0.00108246]\n",
      "Total ECE  0.010246141910874668\n"
     ]
    },
    {
     "name": "stderr",
     "output_type": "stream",
     "text": [
      "\n"
     ]
    }
   ],
   "source": [
    "# dcnn_mc_daugbrierv2\n",
    "# drn_mc_brierv2_cyclic\n",
    "# drn_mcc_brierv2_cyclic\n",
    "# dcnn_mc_augdfltdicev3\n",
    "load_dir = os.path.expanduser(\"~/expers/acdc/dcnn_mc_brier\")\n",
    "with_bg = True\n",
    "mc_dropout = True\n",
    "do_save = False\n",
    "patient_id = None\n",
    "cardiac_phase = \"all\"\n",
    "\n",
    "calibration_results = \\\n",
    "        compute_calibration(load_dir, cardiac_phase ,patient_id=patient_id, \n",
    "                            mc_dropout=mc_dropout, \n",
    "                            do_save=do_save, with_bg=with_bg)\n",
    "\n",
    "print(\"ECE per class \", calibration_results['mean_ece_per_class'])\n",
    "print(\"Total ECE \", np.sum(calibration_results['mean_ece_per_class']))\n"
   ]
  },
  {
   "cell_type": "code",
   "execution_count": 28,
   "metadata": {},
   "outputs": [
    {
     "name": "stdout",
     "output_type": "stream",
     "text": [
      "ECE  [0.         0.00231706 0.00108246]\n"
     ]
    }
   ],
   "source": [
    "print(\"ECE \", calibration_results['mean_ece_per_class'])"
   ]
  },
  {
   "cell_type": "code",
   "execution_count": 13,
   "metadata": {},
   "outputs": [
    {
     "name": "stdout",
     "output_type": "stream",
     "text": [
      "[3.16202532e-04 1.44279087e-01 2.46794638e-01 3.47380569e-01\n",
      " 4.48013298e-01 5.49011982e-01 6.49987099e-01 7.51791425e-01\n",
      " 8.54317429e-01 9.87889365e-01]\n",
      "[1.67867074e-04 8.69984284e-02 1.51492695e-01 2.22425421e-01\n",
      " 2.84868931e-01 3.58224074e-01 4.12637973e-01 5.31735138e-01\n",
      " 6.57313787e-01 9.35021246e-01]\n"
     ]
    }
   ],
   "source": [
    "probs_per_bin = calibration_results['probs_per_bin']\n",
    "prob_bin_edges = calibration_results['prob_bin_edges']\n",
    "acc_per_bin = calibration_results['acc_per_bin']"
   ]
  },
  {
   "cell_type": "markdown",
   "metadata": {},
   "source": [
    "## Generate plots for one model for ED/ES and with and without mc dropout"
   ]
  },
  {
   "cell_type": "code",
   "execution_count": 63,
   "metadata": {
    "scrolled": true
   },
   "outputs": [
    {
     "name": "stdout",
     "output_type": "stream",
     "text": [
      "INFO - /home/jorg/expers/acdc/dcnn_mc_dice generating calibration stats for False\n",
      "INFO - WITH background class\n",
      "INFO - Loading probabilities and predictions from /home/jorg/expers/acdc/dcnn_mc_dice\n"
     ]
    },
    {
     "name": "stderr",
     "output_type": "stream",
     "text": [
      "/home/jorg/anaconda3/envs/pyt_1_2_0/lib/python3.6/site-packages/scipy/ndimage/interpolation.py:611: UserWarning: From scipy 0.13.0, the output shape of zoom() is calculated with round() instead of int() - for these inputs the size of the returned array has changed.\n",
      "  \"the returned array has changed.\", UserWarning)\n",
      "Processing softmax predictions:  30%|███       | 30/100 [00:05<00:11,  6.07it/s]"
     ]
    },
    {
     "name": "stdout",
     "output_type": "stream",
     "text": [
      "WARNING - skipping patient patient029\n"
     ]
    },
    {
     "name": "stderr",
     "output_type": "stream",
     "text": [
      "Processing softmax predictions: 100%|██████████| 100/100 [00:18<00:00,  5.41it/s]\n",
      "Processing softmax predictions:  28%|██▊       | 28/100 [00:05<00:16,  4.49it/s]"
     ]
    },
    {
     "name": "stdout",
     "output_type": "stream",
     "text": [
      "WARNING - skipping patient patient029\n"
     ]
    },
    {
     "name": "stderr",
     "output_type": "stream",
     "text": [
      "Processing softmax predictions: 100%|██████████| 100/100 [00:18<00:00,  5.45it/s]\n"
     ]
    },
    {
     "name": "stdout",
     "output_type": "stream",
     "text": [
      "[0.79444386 0.42219447 0.41101642 0.17715955]\n",
      "[198. 198. 198. 198.]\n",
      "INFO - Successfully saved fig /home/jorg/expers/acdc/dcnn_mc_dice/prob_calibration_DN-SD_all.jpeg\n",
      "ECE per class  [0.00401234 0.0021323  0.00207584 0.00089475]\n",
      "Total ECE  0.009115223729946253\n",
      "INFO - /home/jorg/expers/acdc/dcnn_mc_dice generating calibration stats for True\n",
      "INFO - WITH background class\n",
      "INFO - Loading probabilities and predictions from /home/jorg/expers/acdc/dcnn_mc_dice\n"
     ]
    },
    {
     "name": "stderr",
     "output_type": "stream",
     "text": [
      "/home/jorg/anaconda3/envs/pyt_1_2_0/lib/python3.6/site-packages/scipy/ndimage/interpolation.py:611: UserWarning: From scipy 0.13.0, the output shape of zoom() is calculated with round() instead of int() - for these inputs the size of the returned array has changed.\n",
      "  \"the returned array has changed.\", UserWarning)\n",
      "Processing softmax predictions:  28%|██▊       | 28/100 [00:05<00:14,  4.94it/s]"
     ]
    },
    {
     "name": "stdout",
     "output_type": "stream",
     "text": [
      "WARNING - skipping patient patient029\n"
     ]
    },
    {
     "name": "stderr",
     "output_type": "stream",
     "text": [
      "Processing softmax predictions: 100%|██████████| 100/100 [00:18<00:00,  5.42it/s]\n",
      "Processing softmax predictions:  28%|██▊       | 28/100 [00:06<00:16,  4.36it/s]"
     ]
    },
    {
     "name": "stdout",
     "output_type": "stream",
     "text": [
      "WARNING - skipping patient patient029\n"
     ]
    },
    {
     "name": "stderr",
     "output_type": "stream",
     "text": [
      "Processing softmax predictions: 100%|██████████| 100/100 [00:19<00:00,  5.06it/s]\n"
     ]
    },
    {
     "name": "stdout",
     "output_type": "stream",
     "text": [
      "[0.60021359 0.32354324 0.2506314  0.14440882]\n",
      "[198. 198. 198. 198.]\n",
      "INFO - Successfully saved fig /home/jorg/expers/acdc/dcnn_mc_dice/prob_calibration_DN-SD_all_mc.jpeg\n",
      "ECE per class  [0.00303138 0.00163406 0.00126582 0.00072934]\n",
      "Total ECE  0.00666059120855969\n"
     ]
    }
   ],
   "source": [
    "from plotting.calibration_plots import plot_reliability_diagram\n",
    "\n",
    "load_dir = os.path.expanduser(\"~/expers/acdc/dcnn_mc_dice\")\n",
    "do_save = True\n",
    "with_bg = True\n",
    "cardiac_phase = \"all\"\n",
    "\n",
    "for mc_dropout in [False, True]:\n",
    "    print(\"INFO - {} generating calibration stats for {}\".format(load_dir, mc_dropout))\n",
    "    calibration_results = \\\n",
    "            compute_calibration(load_dir, cardiac_phase ,patient_id=None, mc_dropout=mc_dropout, \n",
    "                                      do_save=False, with_bg=with_bg)\n",
    "    plot_reliability_diagram(calibration_results, do_save=do_save, per_class=False, width=10, height=10\n",
    "                                , do_show=False)\n",
    "    print(\"ECE per class \", calibration_results['mean_ece_per_class'])\n",
    "    print(\"Total ECE \", np.sum(calibration_results['mean_ece_per_class']))"
   ]
  },
  {
   "cell_type": "markdown",
   "metadata": {},
   "source": [
    "## Plot a single reliability diagram"
   ]
  },
  {
   "cell_type": "code",
   "execution_count": 37,
   "metadata": {},
   "outputs": [
    {
     "name": "stdout",
     "output_type": "stream",
     "text": [
      "INFO - Successfully saved fig /home/jorg/expers/acdc/unet_mc_dice/prob_calibration_U-net-SD_all_mc.jpeg\n"
     ]
    },
    {
     "data": {
      "image/png": "[encoded data removed]",
      "text/plain": [
       "<Figure size 720x720 with 1 Axes>"
      ]
     },
     "metadata": {
      "needs_background": "light"
     },
     "output_type": "display_data"
    }
   ],
   "source": [
    "from plotting.calibration_plots import plot_reliability_diagram\n",
    "\n",
    "plot_reliability_diagram(calibration_results, do_save=True, per_class=False, width=10, height=10)"
   ]
  }
 ],
 "metadata": {
  "kernelspec": {
   "display_name": "Python 3",
   "language": "python",
   "name": "python3"
  },
  "language_info": {
   "codemirror_mode": {
    "name": "ipython",
    "version": 3
   },
   "file_extension": ".py",
   "mimetype": "text/x-python",
   "name": "python",
   "nbconvert_exporter": "python",
   "pygments_lexer": "ipython3",
   "version": "3.6.9"
  }
 },
 "nbformat": 4,
 "nbformat_minor": 2
}
