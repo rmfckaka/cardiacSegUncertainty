{
 "cells": [
  {
   "cell_type": "code",
   "execution_count": 2,
   "metadata": {},
   "outputs": [
    {
     "name": "stdout",
     "output_type": "stream",
     "text": [
      "Ready\n"
     ]
    }
   ],
   "source": [
    "import sys\n",
    "import socket\n",
    "\n",
    "if socket.gethostname() == \"qiaubuntu\" or socket.gethostname() == \"toologic-ubuntu2\":\n",
    "    sys.path.extend(['/home/jorg/repository/seg_eval_pipeline'])\n",
    "else:\n",
    "    sys.path.extend(['/home/jorg/repo/seg_eval_pipeline'])\n",
    "\n",
    "import matplotlib\n",
    "import matplotlib.pyplot as plt\n",
    "\n",
    "from matplotlib import cm\n",
    "\n",
    "import numpy as np\n",
    "import torch\n",
    "from collections import OrderedDict\n",
    "\n",
    "from io_tools.acdc.data_handler_phase import ACDCDataHandlerPhase\n",
    "from io_tools.acdc.detector_dataset import RegionDetectorDataSet\n",
    "from io_tools.acdc.create_detector_dataset import create_dataset\n",
    "from config.dcnn.general_setup import base_config as dcnn_config\n",
    "from config.region_detector.general_setup import config_detector\n",
    "\n",
    "from utils.region_detector.batch_handler import BatchHandler\n",
    "from models.model_handler import ModelHandler\n",
    "\n",
    "from plotting.color_maps import transparent_cmap\n",
    "\n",
    "\n",
    "mycmap = transparent_cmap(plt.get_cmap('jet'))\n",
    "# set seeds\n",
    "SEED = 4325\n",
    "torch.manual_seed(SEED)\n",
    "torch.cuda.manual_seed(SEED)\n",
    "torch.backends.cudnn.enabled = True\n",
    "np.random.seed(SEED)\n",
    "\n",
    "%matplotlib inline\n",
    "%load_ext autoreload\n",
    "%autoreload 2\n",
    "print(\"Ready\")"
   ]
  },
  {
   "cell_type": "markdown",
   "metadata": {},
   "source": [
    "# Generate distance transform maps and target detection labels\n",
    "\n",
    "1. **first**, generate dt-maps and targets with mc_dropout equal to **False** and use_existing_dt_maps to **False**\n",
    "2. **second**, re-run for the same fold with mc_dropout equal to **True** and use_existing_dt_maps to **True** so you generate mc low-quality seg-errors without re-generating the dt maps\n",
    "3. **IMPORTANT**: You can't specify fold_id if you are running for specific patient ids (list of strings)\n",
    "4. **IMPORTANT**: parameter error_margins needs to be a tuple where (1) outside tissue structure tolerance margin and (2) inside. Also **note** that these should be only specified if you want to use a fixed margin"
   ]
  },
  {
   "cell_type": "code",
   "execution_count": 33,
   "metadata": {},
   "outputs": [
    {
     "name": "stdout",
     "output_type": "stream",
     "text": [
      "WARNING - using fixed margins outside: 4.200 inside: 2.800\n",
      "WARNING - using /home/jorg/data/ACDC/brier/dt_maps/fixed_42_28 as output dir for dt-maps!\n",
      "INFO - Ready\n"
     ]
    }
   ],
   "source": [
    "\n",
    "fold_id = 0\n",
    "mc_dropout = True\n",
    "use_existing_dt_maps = True if mc_dropout else False\n",
    "patient_ids = None # [\"patient001\"]  # must be a list of patient ids (strings)\n",
    "error_margins = tuple((4.2, 2.8))\n",
    "use_fixed_margin = True\n",
    "\n",
    "# IMPORTANT MC_DROPOUT?\n",
    "# REMEMBER: if you already generated DT maps, you don't need to do that again for generating t_roi_maps!\n",
    "\n",
    "data_handler = ACDCDataHandlerPhase(dcnn_config, \"brier\")\n",
    "data_handler.detection_generator(fold_id=fold_id, patient_ids=patient_ids, do_save_nifti=False, \n",
    "                                 mc_dropout=mc_dropout, adjust_to_roi=False, \n",
    "                                 error_margins=error_margins, use_fixed_margin=use_fixed_margin,\n",
    "                                 use_existing_dt_maps=use_existing_dt_maps)\n",
    "print(\"INFO - Ready\")"
   ]
  },
  {
   "cell_type": "markdown",
   "metadata": {},
   "source": [
    "## Compute statistics for tolerance scenario"
   ]
  },
  {
   "cell_type": "code",
   "execution_count": 3,
   "metadata": {},
   "outputs": [
    {
     "name": "stderr",
     "output_type": "stream",
     "text": [
      "Loading test dataset:   4%|▍         | 1/25 [00:00<00:07,  3.40it/s]/home/jorg/anaconda2/envs/pyt_1_0_0/lib/python3.6/site-packages/scipy/ndimage/interpolation.py:583: UserWarning: From scipy 0.13.0, the output shape of zoom() is calculated with round() instead of int() - for these inputs the size of the returned array has changed.\n",
      "  \"the returned array has changed.\", UserWarning)\n",
      "Loading test dataset: 100%|██████████| 25/25 [00:07<00:00,  3.42it/s]\n",
      "Using SeparatePhaseVolume: 100%|██████████| 25/25 [00:00<00:00, 81284.96it/s]\n"
     ]
    }
   ],
   "source": [
    "fold_id = 0\n",
    "\n",
    "dt_config_id = \"fixed_42_28\"\n",
    "\n",
    "data_handler = ACDCDataHandlerPhase(dcnn_config, \"brier\")\n",
    "data_handler.get_acdc_images_labels(fold_id=fold_id, load_images=False, load_ref_labels=False)\n",
    "data_handler.set_dt_config_id(dt_config_id)"
   ]
  },
  {
   "cell_type": "code",
   "execution_count": 4,
   "metadata": {},
   "outputs": [
    {
     "name": "stdout",
     "output_type": "stream",
     "text": [
      "ED perc slices with errors 0.41\n",
      "ES perc slices with errors 0.75\n",
      "ED perc low-quality errors 0.19\n",
      "ES perc low-quality errors 0.47\n",
      "ED perc Apex/Base 0.24479\n",
      "ES perc Apex/Base 0.28351\n"
     ]
    }
   ],
   "source": [
    "perc_es, perc_ed, seg_perc_es, seg_perc_ed = [], [], [], []\n",
    "seg_perc_a_b_es, seg_perc_a_b_ed = [], []\n",
    "\n",
    "for patient_id, phase_ids in data_handler.phase_trans_dict.items():\n",
    "    for phase_id in phase_ids.values():\n",
    "        \n",
    "        target_labels = data_handler.get_detector_target_labels(patient_id, phase_id, mc_dropout=False)\n",
    "        apex = data_handler.apex_base_slice[patient_id][phase_id]['A'].astype(np.bool)\n",
    "        base = data_handler.apex_base_slice[patient_id][phase_id]['B'].astype(np.bool)\n",
    "        seg_errors = data_handler.get_pred_labels_errors(patient_id, phase_id, mc_dropout=False)\n",
    "        seg_errors = np.any(seg_errors, axis=0)\n",
    "        # NOTE seg_errors [x, y, z]\n",
    "        seg_errors_a_b = np.count_nonzero(seg_errors[...,apex]) + np.count_nonzero(seg_errors[...,base])\n",
    "        total_target_errors = np.any(target_labels, axis=0)\n",
    "        target_labels = np.any(target_labels, axis=(0, 1, 2))\n",
    "        perc = np.count_nonzero(target_labels)/target_labels.shape[0]\n",
    "        perc_error = np.count_nonzero(total_target_errors)/np.count_nonzero(seg_errors)\n",
    "        perc_error_a_b =  seg_errors_a_b/np.count_nonzero(seg_errors)\n",
    "        \n",
    "        if perc == 0:\n",
    "            print(\"Hey {} {}\".format(patient_id, phase_id))\n",
    "        if phase_id == 1:\n",
    "            perc_ed.append(perc)\n",
    "            seg_perc_ed.append(perc_error)\n",
    "            seg_perc_a_b_ed.append(perc_error_a_b)\n",
    "        else:\n",
    "            seg_perc_a_b_es.append(perc_error_a_b)\n",
    "            perc_es.append(perc)\n",
    "            seg_perc_es.append(perc_error)\n",
    "print(\"ED perc slices with errors {:.2f}\".format(np.mean(np.array(perc_ed))))\n",
    "print(\"ES perc slices with errors {:.2f}\".format(np.mean(np.array(perc_es))))\n",
    "print(\"ED perc low-quality errors {:.2f}\".format(np.mean(np.array(seg_perc_ed))))\n",
    "print(\"ES perc low-quality errors {:.2f}\".format(np.mean(np.array(seg_perc_es))))\n",
    "print(\"ED perc Apex/Base {:.5f}\".format(np.mean(np.array(seg_perc_a_b_ed))))\n",
    "print(\"ES perc Apex/Base {:.5f}\".format(np.mean(np.array(seg_perc_a_b_es))))"
   ]
  },
  {
   "cell_type": "code",
   "execution_count": 22,
   "metadata": {},
   "outputs": [
    {
     "data": {
      "image/png": "[encoded data removed]",
      "text/plain": [
       "<Figure size 1008x720 with 2 Axes>"
      ]
     },
     "metadata": {
      "needs_background": "light"
     },
     "output_type": "display_data"
    }
   ],
   "source": [
    "from skimage import feature\n",
    "\n",
    "image_ed = data_handler.get_image(patient_id=\"patient016\", frame_id=1)\n",
    "image_slice = image_ed[..., 7]\n",
    "\n",
    "edges1 = feature.canny(image_slice, sigma=3.5)\n",
    "\n",
    "plt.rcParams['figure.figsize']=[14, 10]\n",
    "plt.subplot(221)\n",
    "plt.imshow(image_slice, cmap=cm.gray)\n",
    "plt.subplot(222)\n",
    "plt.imshow(edges1, cmap=cm.gray)\n",
    "plt.show()"
   ]
  },
  {
   "cell_type": "code",
   "execution_count": null,
   "metadata": {},
   "outputs": [],
   "source": [
    "# outside 5.6mm inside 4.2mm\n",
    "ED perc slices with errors 0.34\n",
    "ES perc slices with errors 0.64\n",
    "ED perc low-quality errors 0.17\n",
    "ES perc low-quality errors 0.41\n",
    "ED perc Apex/Base 0.24479\n",
    "ES perc Apex/Base 0.28351\n",
    "\n",
    "# outside 4.2mm inside 2.8mm\n",
    "ED perc slices with errors 0.41\n",
    "ES perc slices with errors 0.75\n",
    "ED perc low-quality errors 0.19\n",
    "ES perc low-quality errors 0.47\n",
    "ED perc Apex/Base 0.24479\n",
    "ES perc Apex/Base 0.28351\n",
    "\n",
    "# outside 5.6mm inside 2.8mm\n",
    "ED perc slices with errors 0.38\n",
    "ES perc slices with errors 0.68\n",
    "ED perc low-quality errors 0.18\n",
    "ES perc low-quality errors 0.44\n",
    "ED perc Apex/Base 0.24479\n",
    "ES perc Apex/Base 0.28351"
   ]
  },
  {
   "cell_type": "code",
   "execution_count": 7,
   "metadata": {},
   "outputs": [],
   "source": [
    "from utils.region_detector.generate_dt_maps import FilterSegErrors\n",
    "\n",
    "patient_id = \"patient039\"\n",
    "frame_id = 10\n",
    "\n",
    "data_handler = ACDCDataHandlerPhase(dcnn_config, \"brier\")\n",
    "data_handler.set_dt_config_id(dt_config_id)\n",
    "pred_labels = data_handler.get_pred_labels(patient_id, frame_id)\n",
    "seg_errors = data_handler.get_pred_labels_errors(patient_id, frame_id)\n",
    "dt_maps = data_handler.get_dt_maps(patient_id, frame_id)\n",
    "filtered_seg_errors = data_handler.get_detector_target_labels(patient_id, frame_id)\n",
    "apex_base_indicators = data_handler.apex_base_slice[patient_id][frame_id]"
   ]
  },
  {
   "cell_type": "code",
   "execution_count": 8,
   "metadata": {},
   "outputs": [],
   "source": [
    "# filter_errors = FilterSegErrors(pred_labels, seg_errors, dt_maps, apex_base_indicators\n",
    "#                                ['A'], apex_base_indicators['B'])\n",
    "# or from file\n",
    "filter_errors = data_handler.get_detector_target_labels(patient_id, frame_id, mc_dropout=False, force_reload=True)"
   ]
  },
  {
   "cell_type": "code",
   "execution_count": 28,
   "metadata": {},
   "outputs": [
    {
     "data": {
      "image/png": "[encoded data removed]",
      "text/plain": [
       "<Figure size 432x288 with 1 Axes>"
      ]
     },
     "metadata": {
      "needs_background": "light"
     },
     "output_type": "display_data"
    },
    {
     "data": {
      "image/png": "[encoded data removed]",
      "text/plain": [
       "<Figure size 432x288 with 1 Axes>"
      ]
     },
     "metadata": {
      "needs_background": "light"
     },
     "output_type": "display_data"
    }
   ],
   "source": [
    "cls_idx = 3\n",
    "slice_idx = 0\n",
    "plt.imshow(filtered_seg_errors[cls_idx, :, :, slice_idx], cmap=cm.gray)\n",
    "plt.axis(\"off\")\n",
    "plt.show()\n",
    "plt.imshow(seg_errors[cls_idx, :, :, slice_idx], cmap=cm.gray)\n",
    "plt.axis(\"off\")\n",
    "plt.show()\n"
   ]
  },
  {
   "cell_type": "code",
   "execution_count": 3,
   "metadata": {},
   "outputs": [],
   "source": [
    "data_handler = ACDCDataHandlerPhase(dcnn_config, \"brier\")\n",
    "output_dir = \"/home/jorg/data/ACDC/seg_errors/\"\n",
    "patient_ids = None\n",
    "data_handler.save_seg_errors(fold_id=0, patient_ids=patient_ids, output_dir=output_dir)"
   ]
  },
  {
   "cell_type": "code",
   "execution_count": 6,
   "metadata": {},
   "outputs": [
    {
     "name": "stderr",
     "output_type": "stream",
     "text": [
      "100%|██████████| 25/25 [00:01<00:00, 13.98it/s]\n",
      "100%|██████████| 25/25 [00:01<00:00, 13.70it/s]\n",
      "100%|██████████| 25/25 [00:01<00:00, 13.68it/s]\n",
      "100%|██████████| 25/25 [00:01<00:00, 13.86it/s]\n"
     ]
    },
    {
     "name": "stdout",
     "output_type": "stream",
     "text": [
      "506.0 5320.0\n",
      "12 7695 2709.0 2800.490566037736\n"
     ]
    },
    {
     "data": {
      "image/png": "[encoded data removed]",
      "text/plain": [
       "<matplotlib.figure.Figure at 0x7fbc5c0aea90>"
      ]
     },
     "metadata": {},
     "output_type": "display_data"
    }
   ],
   "source": [
    "from common.detector.box_utils import BoundingBox\n",
    "\n",
    "areas_es, areas_ed = [], []\n",
    "fold_ids = [0, 1, 2, 3]\n",
    "\n",
    "for fold_id in fold_ids:\n",
    "    exper_handler = seg_exper_ensemble.seg_exper_handlers[fold_id]\n",
    "    exper_handler.get_test_set()\n",
    "    exper_handler.test_set.generate_bbox_target_roi()\n",
    "    target_roi_slices = exper_handler.test_set.labels_target_roi\n",
    "    for patient_id, pat_slice_rois in target_roi_slices.iteritems():\n",
    "        # print(patient_id, pat_slice_rois.keys()) \n",
    "        for slice_id, slice_rois in pat_slice_rois.iteritems():\n",
    "            # first index ES/ED, second index slice_x, slice_y\n",
    "            roi_box_es = BoundingBox(slice_rois[0][0], slice_rois[0][1])\n",
    "            roi_box_ed = BoundingBox(slice_rois[1][0], slice_rois[1][1])\n",
    "            area = roi_box_es.width * roi_box_es.height\n",
    "            if area != 0:\n",
    "                # if area < 567 or area > 5698:\n",
    "                    # print(patient_id, area, slice_id)\n",
    "                areas_es.append(area)\n",
    "            area = roi_box_ed.width * roi_box_ed.height\n",
    "            if area != 0:\n",
    "                areas_ed.append(area)\n",
    "    \n",
    "    exper_handler.test_set = None\n",
    "    \n",
    "areas_es = np.array(areas_es)\n",
    "lower, upper = np.percentile(areas_es, [5, 95], axis=0)\n",
    "print(lower, upper)\n",
    "print(np.min(areas_es), np.max(areas_es), np.median(areas_es), np.mean(areas_es))\n",
    "_ = plt.hist(areas_es, bins=9)            \n",
    "plt.show()"
   ]
  }
 ],
 "metadata": {
  "kernelspec": {
   "display_name": "Python 3",
   "language": "python",
   "name": "python3"
  },
  "language_info": {
   "codemirror_mode": {
    "name": "ipython",
    "version": 3
   },
   "file_extension": ".py",
   "mimetype": "text/x-python",
   "name": "python",
   "nbconvert_exporter": "python",
   "pygments_lexer": "ipython3",
   "version": "3.6.8"
  }
 },
 "nbformat": 4,
 "nbformat_minor": 2
}
