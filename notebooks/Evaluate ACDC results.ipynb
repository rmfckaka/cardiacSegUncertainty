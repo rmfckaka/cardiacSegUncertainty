{
 "cells": [
  {
   "cell_type": "code",
   "execution_count": 3,
   "metadata": {},
   "outputs": [],
   "source": [
    "%matplotlib inline\n",
    "\n",
    "import os\n",
    "import socket\n",
    "import sys\n",
    "\n",
    "if socket.gethostname() == \"qiaubuntu\" or socket.gethostname() == \"toologic-ubuntu2\":\n",
    "    repo_path = os.path.expanduser('~/repository/model_evaluation')\n",
    "else:\n",
    "    repo_path = os.path.expanduser('~/repo/model_evaluation')\n",
    "sys.path.extend([repo_path])\n",
    "\n",
    "import matplotlib.pyplot as plt\n",
    "from matplotlib import rc\n",
    "\n",
    "import SimpleITK as sitk\n",
    "import numpy as np\n",
    "from glob import iglob\n",
    "\n",
    "from utils.medpy_metrics import hd, dc\n",
    "from tqdm import tqdm"
   ]
  },
  {
   "cell_type": "code",
   "execution_count": 4,
   "metadata": {},
   "outputs": [],
   "source": [
    "import numpy as np\n",
    "from scipy.ndimage import measurements   \n",
    "\n",
    "def getLargestCC(segmentation):\n",
    "    labels, count = measurements.label(segmentation, structure=np.ones((3,3,3)))\n",
    "    assert( labels.max() != 0 ) # assume at least 1 CC\n",
    "    largestCC = labels == np.argmax(np.bincount(labels.flat)[1:])+ 1\n",
    "    return largestCC\n"
   ]
  },
  {
   "cell_type": "code",
   "execution_count": 6,
   "metadata": {},
   "outputs": [
    {
     "name": "stderr",
     "output_type": "stream",
     "text": [
      "25it [00:08,  2.83it/s]"
     ]
    },
    {
     "name": "stdout",
     "output_type": "stream",
     "text": [
      "[0.87767622 0.87460835 0.90205842]\n",
      "[13.51609928  8.8631213   8.72806462]\n"
     ]
    },
    {
     "name": "stderr",
     "output_type": "stream",
     "text": [
      "\n"
     ]
    }
   ],
   "source": [
    "result_dir = '/home/bob/CardiacMRStrain/output/seg/CE_drn_upsmp/'\n",
    "hds = list()\n",
    "dcs = list()\n",
    "\n",
    "\n",
    "for fname in tqdm(iglob('/home/bob/CardiacMRStrain/output/seg/reference/*_ES.nii.gz')):\n",
    "    img = sitk.ReadImage(fname)\n",
    "    spacing = img.GetSpacing()[::-1]\n",
    "    reference = sitk.GetArrayFromImage(img)\n",
    "    \n",
    "#     select = np.where(np.any(reference, (1,2)))[0]\n",
    "#     img = img[select[0]:select[-1]+1]\n",
    "#     reference = reference[select[0]:select[-1]+1]\n",
    "    \n",
    "    \n",
    "    res_fname = os.path.join(result_dir, os.path.basename(fname))\n",
    "    img = sitk.ReadImage(res_fname)\n",
    "    prediction = sitk.GetArrayFromImage(img)\n",
    "    if reference.shape != prediction.shape:\n",
    "        continue\n",
    "    \n",
    "    hds.append([hd(getLargestCC(prediction==lab), getLargestCC(reference==lab), spacing) for lab in range(1,4)])\n",
    "    dcs.append([dc(getLargestCC(prediction==lab), getLargestCC(reference==lab)) for lab in range(1,4)])\n",
    "    \n",
    "print(np.mean(dcs, 0))\n",
    "print(np.mean(hds, 0))\n",
    "#rv\n",
    "#lvm\n",
    "#lvb"
   ]
  },
  {
   "cell_type": "code",
   "execution_count": 8,
   "metadata": {},
   "outputs": [
    {
     "name": "stdout",
     "output_type": "stream",
     "text": [
      "[0.9269934  0.85298104 0.95040341]\n",
      "[11.74775646  7.89036707  6.02732913]\n"
     ]
    }
   ],
   "source": [
    "print(np.mean(dcs, 0))\n",
    "print(np.mean(hds, 0))"
   ]
  },
  {
   "cell_type": "code",
   "execution_count": 105,
   "metadata": {},
   "outputs": [
    {
     "name": "stdout",
     "output_type": "stream",
     "text": [
      "[0.93443415 0.88088283 0.96242679]\n",
      "[12.92013935  7.92302053  4.94505519]\n"
     ]
    }
   ],
   "source": [
    "print(np.mean(dcs, 0))\n",
    "print(np.mean(hds, 0))"
   ]
  },
  {
   "cell_type": "code",
   "execution_count": 106,
   "metadata": {},
   "outputs": [
    {
     "data": {
      "text/plain": [
       "(0, 1)"
      ]
     },
     "execution_count": 106,
     "metadata": {},
     "output_type": "execute_result"
    },
    {
     "data": {
      "image/png": "[encoded data removed]",
      "text/plain": [
       "<Figure size 432x288 with 1 Axes>"
      ]
     },
     "metadata": {
      "needs_background": "light"
     },
     "output_type": "display_data"
    }
   ],
   "source": [
    "\n",
    "plt.boxplot(np.array(dcs));\n",
    "plt.ylim(0, 1)"
   ]
  },
  {
   "cell_type": "code",
   "execution_count": null,
   "metadata": {
    "collapsed": true
   },
   "outputs": [],
   "source": []
  }
 ],
 "metadata": {
  "kernelspec": {
   "display_name": "Python 3",
   "language": "python",
   "name": "python3"
  },
  "language_info": {
   "codemirror_mode": {
    "name": "ipython",
    "version": 3
   },
   "file_extension": ".py",
   "mimetype": "text/x-python",
   "name": "python",
   "nbconvert_exporter": "python",
   "pygments_lexer": "ipython3",
   "version": "3.6.8"
  }
 },
 "nbformat": 4,
 "nbformat_minor": 2
}
